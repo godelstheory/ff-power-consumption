{
 "cells": [
  {
   "cell_type": "code",
   "execution_count": 1,
   "metadata": {},
   "outputs": [],
   "source": [
    "import pandas as pd"
   ]
  },
  {
   "cell_type": "code",
   "execution_count": 2,
   "metadata": {},
   "outputs": [
    {
     "name": "stdout",
     "output_type": "stream",
     "text": [
      "Populating the interactive namespace from numpy and matplotlib\n"
     ]
    }
   ],
   "source": [
    "%pylab inline"
   ]
  },
  {
   "cell_type": "code",
   "execution_count": 7,
   "metadata": {},
   "outputs": [
    {
     "ename": "ModuleNotFoundError",
     "evalue": "No module named '__main__.experiment'; '__main__' is not a package",
     "output_type": "error",
     "traceback": [
      "\u001b[0;31m---------------------------------------------------------------------------\u001b[0m",
      "\u001b[0;31mModuleNotFoundError\u001b[0m                       Traceback (most recent call last)",
      "\u001b[0;32m~/Code/FF-power-consumption/energy_consumption/reduction/experiment_reduction.py\u001b[0m in \u001b[0;36m<module>\u001b[0;34m\u001b[0m\n\u001b[1;32m      6\u001b[0m \u001b[0;32mimport\u001b[0m \u001b[0mpandas\u001b[0m \u001b[0;32mas\u001b[0m \u001b[0mpd\u001b[0m\u001b[0;34m\u001b[0m\u001b[0;34m\u001b[0m\u001b[0m\n\u001b[1;32m      7\u001b[0m \u001b[0;34m\u001b[0m\u001b[0m\n\u001b[0;32m----> 8\u001b[0;31m \u001b[0;32mfrom\u001b[0m \u001b[0;34m.\u001b[0m\u001b[0mexperiment\u001b[0m \u001b[0;32mimport\u001b[0m \u001b[0mExperimentMeta\u001b[0m\u001b[0;34m\u001b[0m\u001b[0;34m\u001b[0m\u001b[0m\n\u001b[0m\u001b[1;32m      9\u001b[0m \u001b[0;32mfrom\u001b[0m \u001b[0;34m.\u001b[0m\u001b[0mperformance_counter\u001b[0m \u001b[0;32mimport\u001b[0m \u001b[0mTIMESTAMP_FMT\u001b[0m\u001b[0;34m\u001b[0m\u001b[0;34m\u001b[0m\u001b[0m\n\u001b[1;32m     10\u001b[0m \u001b[0;32mfrom\u001b[0m \u001b[0;34m.\u001b[0m\u001b[0mreduction\u001b[0m\u001b[0;34m.\u001b[0m\u001b[0mperformance_reduction\u001b[0m \u001b[0;32mimport\u001b[0m \u001b[0magg_sum\u001b[0m\u001b[0;34m,\u001b[0m \u001b[0mfilter_one\u001b[0m\u001b[0;34m\u001b[0m\u001b[0;34m\u001b[0m\u001b[0m\n",
      "\u001b[0;31mModuleNotFoundError\u001b[0m: No module named '__main__.experiment'; '__main__' is not a package"
     ]
    }
   ],
   "source": [
    "%run ~/Code/FF-power-consumption/energy_consumption/reduction/experiment_reduction.py"
   ]
  },
  {
   "cell_type": "code",
   "execution_count": 126,
   "metadata": {},
   "outputs": [
    {
     "data": {
      "text/plain": [
       "{'0': {'children': [{'dispatchCount': 4,\n",
       "    'duration': 0,\n",
       "    'host': 'moz-nullprincipal:{c7645d78-33d7-4948-b215-b2357340484e}',\n",
       "    'isWorker': False}],\n",
       "  'dispatchCount': 4,\n",
       "  'duration': 0,\n",
       "  'host': 'moz-nullprincipal:{c7645d78-33d7-4948-b215-b2357340484e}',\n",
       "  'windowId': 0},\n",
       " '1': {'children': [{'dispatchCount': 10,\n",
       "    'duration': 227877,\n",
       "    'host': 'resource://gre/modules/osfile/osfile_async_worker.js',\n",
       "    'isWorker': True},\n",
       "   {'dispatchCount': 0,\n",
       "    'duration': 43614,\n",
       "    'host': 'resource:///modules/sessionstore/SessionWorker.js',\n",
       "    'isWorker': True}],\n",
       "  'dispatchCount': 126,\n",
       "  'duration': 272014,\n",
       "  'host': 'resource://gre/modules/osfile/osfile_async_worker.js',\n",
       "  'windowId': 1},\n",
       " '10': {'children': [],\n",
       "  'dispatchCount': 2,\n",
       "  'duration': 0,\n",
       "  'host': 'about:blank',\n",
       "  'windowId': 10},\n",
       " '13': {'children': [],\n",
       "  'dispatchCount': 2,\n",
       "  'duration': 0,\n",
       "  'host': 'about:blank',\n",
       "  'windowId': 13},\n",
       " '16': {'children': [],\n",
       "  'dispatchCount': 2,\n",
       "  'duration': 0,\n",
       "  'host': 'about:blank',\n",
       "  'windowId': 16},\n",
       " '2147483649': {'children': [],\n",
       "  'dispatchCount': 47,\n",
       "  'duration': 56087,\n",
       "  'host': 'about:home',\n",
       "  'windowId': 2147483649},\n",
       " '4294967297': {'children': [],\n",
       "  'dispatchCount': 18,\n",
       "  'duration': 2210,\n",
       "  'host': 'dfd84cef-f842-2344-b4e3-ea9bfc02a9a5',\n",
       "  'windowId': 4294967297},\n",
       " '4294967298': {'children': [],\n",
       "  'dispatchCount': 18,\n",
       "  'duration': 2363,\n",
       "  'host': 'about:blank',\n",
       "  'windowId': 4294967298},\n",
       " '4294967299': {'children': [],\n",
       "  'dispatchCount': 20,\n",
       "  'duration': 18637,\n",
       "  'host': '54cf0050-c3cd-9e43-b864-e1da55cf6645',\n",
       "  'windowId': 4294967299},\n",
       " '4294967300': {'children': [],\n",
       "  'dispatchCount': 20,\n",
       "  'duration': 19833,\n",
       "  'host': '01af69c1-d751-b144-bb63-01cb7b0115f4',\n",
       "  'windowId': 4294967300},\n",
       " '7': {'children': [],\n",
       "  'dispatchCount': 2,\n",
       "  'duration': 0,\n",
       "  'host': 'about:blank',\n",
       "  'windowId': 7}}"
      ]
     },
     "execution_count": 126,
     "metadata": {},
     "output_type": "execute_result"
    }
   ],
   "source": [
    "pc.tabs[0]"
   ]
  },
  {
   "cell_type": "code",
   "execution_count": 80,
   "metadata": {},
   "outputs": [],
   "source": [
    "def read_and_munge_data(fn, expid, ts, path):\n",
    "    ipg = pd.read_csv(\n",
    "        '{path}/exp_{expid}_{ts}/ipg_{expid}_1_clean.txt'.format(expid=expid, ts=ts, path=path)\n",
    "    )\n",
    "    pc = pd.read_json(\n",
    "        '{path}/exp_{expid}_{ts}/{fn}_{expid}_perf_counters.json'.format(expid=expid, ts=ts, path=path, fn=fn)\n",
    "    )\n",
    "    bla = \"{} {}\".format(pc.timestamp.dt.date[0], ipg.loc[0, 'System Time'])\n",
    "    assert bla[-4] == ':'\n",
    "    b2 = bla.split(':')\n",
    "    ipg['t'] = ipg['Elapsed Time (sec)'].apply(lambda x: pd.Timedelta(x, 's'))\n",
    "    ipgt0 = pd.Timestamp(':'.join(b2[:-1]) + '.' + b2[-1]) - ipg.loc[0, 't']\n",
    "    pc['t'] = pc.timestamp - ipgt0\n",
    "    return ipg.set_index('t'), pc.set_index('t')"
   ]
  },
  {
   "cell_type": "code",
   "execution_count": 99,
   "metadata": {},
   "outputs": [],
   "source": [
    "def plot_compare(ipg, pc, expid, ts):\n",
    "    cla()\n",
    "    ipg['Processor Power_0(Watt)'].plot(label='IPG power (Watt)')\n",
    "    ylabel('Power consumption (W)')\n",
    "    legend()\n",
    "    pc.tabs.apply(lambda x: sum(y['dispatchCount'] for y in x.values())).diff().apply(\n",
    "        lambda x: x if x >= 0 else np.nan\n",
    "    ).plot(secondary_y=True)\n",
    "    ylabel('sum of dispatchCount / sec')\n",
    "    title('{} {}'.format(expid, ts))"
   ]
  },
  {
   "cell_type": "code",
   "execution_count": 160,
   "metadata": {},
   "outputs": [
    {
     "name": "stderr",
     "output_type": "stream",
     "text": [
      "/home/felix/.local/lib/python3.6/site-packages/ipykernel_launcher.py:6: DeprecationWarning: Calling np.sum(generator) is deprecated, and in the future will give a different result. Use np.sum(np.from_iter(generator)) or the python sum builtin instead.\n",
      "  \n"
     ]
    },
    {
     "data": {
      "image/png": "[encoded data removed]",
      "text/plain": [
       "<Figure size 432x288 with 2 Axes>"
      ]
     },
     "metadata": {
      "needs_background": "light"
     },
     "output_type": "display_data"
    }
   ],
   "source": [
    "expid, ts = 'espncricinfo', '20181211_161158'\n",
    "ipg, pc = read_and_munge_data(expid, expid, ts, '~/felix-ec')\n",
    "plot_compare(ipg, pc, expid, ts)"
   ]
  },
  {
   "cell_type": "code",
   "execution_count": 168,
   "metadata": {},
   "outputs": [
    {
     "name": "stderr",
     "output_type": "stream",
     "text": [
      "/home/felix/.local/lib/python3.6/site-packages/ipykernel_launcher.py:6: DeprecationWarning: Calling np.sum(generator) is deprecated, and in the future will give a different result. Use np.sum(np.from_iter(generator)) or the python sum builtin instead.\n",
      "  \n"
     ]
    },
    {
     "data": {
      "image/png": "[encoded data removed]",
      "text/plain": [
       "<Figure size 432x288 with 2 Axes>"
      ]
     },
     "metadata": {
      "needs_background": "light"
     },
     "output_type": "display_data"
    }
   ],
   "source": [
    "expid, ts = 'ling', '20181212_142823'\n",
    "ipg, pc = read_and_munge_data(expid, expid, ts, '~/felix-ec')\n",
    "plot_compare(ipg, pc, expid, ts)"
   ]
  },
  {
   "cell_type": "code",
   "execution_count": 96,
   "metadata": {},
   "outputs": [],
   "source": [
    "import sklearn.cluster as skc"
   ]
  },
  {
   "cell_type": "code",
   "execution_count": 119,
   "metadata": {},
   "outputs": [
    {
     "name": "stdout",
     "output_type": "stream",
     "text": [
      "espncricinfo 20181211_161158 ipg\n"
     ]
    },
    {
     "data": {
      "text/plain": [
       "array([ 2.80918391,  9.7926087 , 28.2565    ])"
      ]
     },
     "execution_count": 119,
     "metadata": {},
     "output_type": "execute_result"
    }
   ],
   "source": [
    "kipg = skc.KMeans(3)\n",
    "kipg.fit(ipg['Processor Power_0(Watt)'].values.reshape((-1,1)))\n",
    "print(expid, ts, 'ipg')\n",
    "ipg_vals = np.sort(kipg.cluster_centers_[:,0])\n",
    "ipg_vals"
   ]
  },
  {
   "cell_type": "code",
   "execution_count": 122,
   "metadata": {},
   "outputs": [
    {
     "name": "stdout",
     "output_type": "stream",
     "text": [
      "espncricinfo 20181211_161158 pc\n"
     ]
    },
    {
     "name": "stderr",
     "output_type": "stream",
     "text": [
      "/home/felix/.local/lib/python3.6/site-packages/ipykernel_launcher.py:2: DeprecationWarning: Calling np.sum(generator) is deprecated, and in the future will give a different result. Use np.sum(np.from_iter(generator)) or the python sum builtin instead.\n",
      "  \n"
     ]
    },
    {
     "data": {
      "text/plain": [
       "array([  1.75581395, 236.25      , 637.42105263])"
      ]
     },
     "execution_count": 122,
     "metadata": {},
     "output_type": "execute_result"
    }
   ],
   "source": [
    "kpc = skc.KMeans(3)\n",
    "kpc.fit(pc.tabs.apply(lambda x: sum(y['dispatchCount'] for y in x.values())).diff().apply(\n",
    "        lambda x: x if x >= 0 else np.nan\n",
    "    ).dropna().values.reshape((-1,1)))\n",
    "print(expid, ts, 'pc')\n",
    "pc_vals = np.sort(kpc.cluster_centers_[:,0])\n",
    "pc_vals"
   ]
  },
  {
   "cell_type": "code",
   "execution_count": 123,
   "metadata": {
    "scrolled": true
   },
   "outputs": [
    {
     "data": {
      "text/plain": [
       "0.01098601018694794"
      ]
     },
     "execution_count": 123,
     "metadata": {},
     "output_type": "execute_result"
    }
   ],
   "source": [
    "(ipg_vals[1] - ipg_vals[0]) / (pc_vals[2] - pc_vals[0])"
   ]
  },
  {
   "cell_type": "code",
   "execution_count": 111,
   "metadata": {},
   "outputs": [
    {
     "name": "stdout",
     "output_type": "stream",
     "text": [
      "ling 20181212_142823 ipg\n"
     ]
    },
    {
     "data": {
      "text/plain": [
       "array([ 2.82401786, 25.90877358, 38.22527273])"
      ]
     },
     "execution_count": 111,
     "metadata": {},
     "output_type": "execute_result"
    }
   ],
   "source": [
    "kipg = skc.KMeans(3)\n",
    "kipg.fit(ipg['Processor Power_0(Watt)'].values.reshape((-1,1)))\n",
    "print(expid, ts, 'ipg')\n",
    "ipg_vals = np.sort(kipg.cluster_centers_[:,0])\n",
    "ipg_vals"
   ]
  },
  {
   "cell_type": "code",
   "execution_count": 112,
   "metadata": {},
   "outputs": [
    {
     "name": "stdout",
     "output_type": "stream",
     "text": [
      "ling 20181212_142823 pc\n"
     ]
    },
    {
     "name": "stderr",
     "output_type": "stream",
     "text": [
      "/home/felix/.local/lib/python3.6/site-packages/ipykernel_launcher.py:2: DeprecationWarning: Calling np.sum(generator) is deprecated, and in the future will give a different result. Use np.sum(np.from_iter(generator)) or the python sum builtin instead.\n",
      "  \n"
     ]
    },
    {
     "data": {
      "text/plain": [
       "array([  1.        , 257.49152542])"
      ]
     },
     "execution_count": 112,
     "metadata": {},
     "output_type": "execute_result"
    }
   ],
   "source": [
    "kpc = skc.KMeans(2)\n",
    "kpc.fit(pc.tabs.apply(lambda x: sum(y['dispatchCount'] for y in x.values())).diff().apply(\n",
    "        lambda x: x if x >= 0 else np.nan\n",
    "    ).dropna().values.reshape((-1,1)))\n",
    "print(expid, ts, 'pc')\n",
    "pc_vals = np.sort(kpc.cluster_centers_[:,0])\n",
    "pc_vals"
   ]
  },
  {
   "cell_type": "code",
   "execution_count": 113,
   "metadata": {},
   "outputs": [
    {
     "data": {
      "text/plain": [
       "0.09000202127390507"
      ]
     },
     "execution_count": 113,
     "metadata": {},
     "output_type": "execute_result"
    }
   ],
   "source": [
    "(ipg_vals[1] - ipg_vals[0]) / (pc_vals[1] - pc_vals[0])"
   ]
  },
  {
   "cell_type": "code",
   "execution_count": 141,
   "metadata": {},
   "outputs": [
    {
     "data": {
      "text/plain": [
       "{'0': {'children': [{'dispatchCount': 5,\n",
       "    'duration': 0,\n",
       "    'host': 'moz-nullprincipal:{c7645d78-33d7-4948-b215-b2357340484e}',\n",
       "    'isWorker': False}],\n",
       "  'dispatchCount': 5,\n",
       "  'duration': 0,\n",
       "  'host': 'moz-nullprincipal:{c7645d78-33d7-4948-b215-b2357340484e}',\n",
       "  'windowId': 0},\n",
       " '1': {'children': [{'dispatchCount': 12,\n",
       "    'duration': 230706,\n",
       "    'host': 'resource://gre/modules/osfile/osfile_async_worker.js',\n",
       "    'isWorker': True},\n",
       "   {'dispatchCount': 3,\n",
       "    'duration': 62116,\n",
       "    'host': 'resource:///modules/sessionstore/SessionWorker.js',\n",
       "    'isWorker': True}],\n",
       "  'dispatchCount': 157,\n",
       "  'duration': 293700,\n",
       "  'host': 'resource://gre/modules/osfile/osfile_async_worker.js',\n",
       "  'windowId': 1},\n",
       " '4294967297': {'children': [],\n",
       "  'dispatchCount': 16,\n",
       "  'duration': 2083,\n",
       "  'host': 'dfd84cef-f842-2344-b4e3-ea9bfc02a9a5',\n",
       "  'windowId': 4294967297},\n",
       " '4294967298': {'children': [],\n",
       "  'dispatchCount': 16,\n",
       "  'duration': 2291,\n",
       "  'host': 'd4b5efe4-5a1a-b74d-b4d2-889fa01e9dca',\n",
       "  'windowId': 4294967298},\n",
       " '4294967299': {'children': [],\n",
       "  'dispatchCount': 18,\n",
       "  'duration': 18528,\n",
       "  'host': '54cf0050-c3cd-9e43-b864-e1da55cf6645',\n",
       "  'windowId': 4294967299},\n",
       " '4294967300': {'children': [],\n",
       "  'dispatchCount': 18,\n",
       "  'duration': 19757,\n",
       "  'host': '01af69c1-d751-b144-bb63-01cb7b0115f4',\n",
       "  'windowId': 4294967300},\n",
       " '6442450945': {'children': [{'dispatchCount': 59,\n",
       "    'duration': 172676,\n",
       "    'host': 'cdn.registerdisney.go.com',\n",
       "    'isWorker': False},\n",
       "   {'dispatchCount': 28,\n",
       "    'duration': 2863,\n",
       "    'host': 'tags.bluekai.com',\n",
       "    'isWorker': False},\n",
       "   {'dispatchCount': 1028,\n",
       "    'duration': 90506,\n",
       "    'host': 'tpc.googlesyndication.com',\n",
       "    'isWorker': False},\n",
       "   {'dispatchCount': 31,\n",
       "    'duration': 4680,\n",
       "    'host': 'cdn-gl.imrworldwide.com',\n",
       "    'isWorker': False},\n",
       "   {'dispatchCount': 53,\n",
       "    'duration': 17500,\n",
       "    'host': 'sp.auth.adobe.com',\n",
       "    'isWorker': False},\n",
       "   {'dispatchCount': 13,\n",
       "    'duration': 5372,\n",
       "    'host': 'about:neterror?e=dnsNotFound&u=http%3A//fast.espn.demdex.net/dest5.html%3Fd_nsid%3D0%23http%253A%252F%252Fwww.espncricinfo.com%252F&c=UTF-8&f=regular&d=We%20can%E2%80%99t%20connect%20to%20the%20server%20at%20fast.espn.demdex.net.',\n",
       "    'isWorker': False},\n",
       "   {'dispatchCount': 57,\n",
       "    'duration': 25729,\n",
       "    'host': 'tpc.googlesyndication.com',\n",
       "    'isWorker': False},\n",
       "   {'dispatchCount': 14,\n",
       "    'duration': 5609,\n",
       "    'host': 'platform.twitter.com',\n",
       "    'isWorker': False},\n",
       "   {'dispatchCount': 4,\n",
       "    'duration': 104,\n",
       "    'host': 'about:blank',\n",
       "    'isWorker': False},\n",
       "   {'dispatchCount': 30,\n",
       "    'duration': 12160,\n",
       "    'host': 'bid.g.doubleclick.net',\n",
       "    'isWorker': False}],\n",
       "  'dispatchCount': 10752,\n",
       "  'duration': 3381487,\n",
       "  'host': 'cdn.registerdisney.go.com',\n",
       "  'windowId': 6442450945}}"
      ]
     },
     "execution_count": 141,
     "metadata": {},
     "output_type": "execute_result"
    }
   ],
   "source": [
    "pc.iloc[50,0]"
   ]
  },
  {
   "cell_type": "code",
   "execution_count": 146,
   "metadata": {},
   "outputs": [],
   "source": [
    "def sum_dispatchCounts(d):\n",
    "    return sum(sum_dispatchCounts(c) for c in d.get('children', [])) + d['dispatchCount']"
   ]
  },
  {
   "cell_type": "code",
   "execution_count": 147,
   "metadata": {},
   "outputs": [
    {
     "name": "stderr",
     "output_type": "stream",
     "text": [
      "/home/felix/.local/lib/python3.6/site-packages/ipykernel_launcher.py:1: DeprecationWarning: Calling np.sum(generator) is deprecated, and in the future will give a different result. Use np.sum(np.from_iter(generator)) or the python sum builtin instead.\n",
      "  \"\"\"Entry point for launching an IPython kernel.\n",
      "/home/felix/.local/lib/python3.6/site-packages/ipykernel_launcher.py:2: DeprecationWarning: Calling np.sum(generator) is deprecated, and in the future will give a different result. Use np.sum(np.from_iter(generator)) or the python sum builtin instead.\n",
      "  \n"
     ]
    },
    {
     "data": {
      "text/plain": [
       "12319"
      ]
     },
     "execution_count": 147,
     "metadata": {},
     "output_type": "execute_result"
    }
   ],
   "source": [
    "sum(sum_dispatchCounts(d) for d in pc.iloc[50,0].values())"
   ]
  },
  {
   "cell_type": "code",
   "execution_count": 150,
   "metadata": {},
   "outputs": [],
   "source": [
    "def plot_compare2(ipg, pc, expid, ts):\n",
    "    cla()\n",
    "    ipg['Processor Power_0(Watt)'].plot(label='IPG power (Watt)')\n",
    "    ylabel('Power consumption (W)')\n",
    "    pc.tabs.apply(lambda x: sum(y['dispatchCount'] for y in x.values())).diff().apply(\n",
    "        lambda x: x if x >= 0 else np.nan\n",
    "    ).plot(secondary_y=True, label='parent_sum')\n",
    "    pc.tabs.apply(lambda x: sum(sum_dispatchCounts(d) for d in x.values())).diff().apply(\n",
    "        lambda x: x if x >= 0 else np.nan\n",
    "    ).plot(secondary_y=True, label='deep_sum')\n",
    "    legend()\n",
    "    ylabel('sum of dispatchCount / sec')\n",
    "    title('{} {}'.format(expid, ts))"
   ]
  },
  {
   "cell_type": "code",
   "execution_count": 151,
   "metadata": {},
   "outputs": [
    {
     "name": "stderr",
     "output_type": "stream",
     "text": [
      "/home/felix/.local/lib/python3.6/site-packages/ipykernel_launcher.py:5: DeprecationWarning: Calling np.sum(generator) is deprecated, and in the future will give a different result. Use np.sum(np.from_iter(generator)) or the python sum builtin instead.\n",
      "  \"\"\"\n",
      "/home/felix/.local/lib/python3.6/site-packages/ipykernel_launcher.py:8: DeprecationWarning: Calling np.sum(generator) is deprecated, and in the future will give a different result. Use np.sum(np.from_iter(generator)) or the python sum builtin instead.\n",
      "  \n",
      "/home/felix/.local/lib/python3.6/site-packages/ipykernel_launcher.py:2: DeprecationWarning: Calling np.sum(generator) is deprecated, and in the future will give a different result. Use np.sum(np.from_iter(generator)) or the python sum builtin instead.\n",
      "  \n"
     ]
    },
    {
     "data": {
      "image/png": "[encoded data removed]",
      "text/plain": [
       "<Figure size 432x288 with 2 Axes>"
      ]
     },
     "metadata": {
      "needs_background": "light"
     },
     "output_type": "display_data"
    }
   ],
   "source": [
    "plot_compare2(ipg, pc, expid, ts)"
   ]
  },
  {
   "cell_type": "code",
   "execution_count": 155,
   "metadata": {},
   "outputs": [],
   "source": [
    "def sum_durations(d):\n",
    "    return sum(sum_durations(c) for c in d.get('children', [])) + d['duration']"
   ]
  },
  {
   "cell_type": "code",
   "execution_count": 178,
   "metadata": {},
   "outputs": [],
   "source": [
    "def plot_compare3(ipg, pc, expid, ts):\n",
    "    cla()\n",
    "    ipg['Processor Power_0(Watt)'].plot(label='IPG power (Watt)')\n",
    "    ylabel('Power consumption (W)')\n",
    "    pc.tabs.apply(lambda x: sum(y['duration'] for y in x.values())).diff().apply(\n",
    "        lambda x: x if x >= 0 else np.nan\n",
    "    ).plot(secondary_y=True, label='parent_sum')\n",
    "#     pc.tabs.apply(lambda x: sum(sum_durations(d) for d in x.values())).diff().apply(\n",
    "#         lambda x: x if x >= 0 else np.nan\n",
    "#     ).plot(secondary_y=True, label='deep_sum')\n",
    "    legend()\n",
    "    ylabel('sum of duration / sec')\n",
    "    title('{} {}'.format(expid, ts))"
   ]
  },
  {
   "cell_type": "code",
   "execution_count": 179,
   "metadata": {},
   "outputs": [
    {
     "name": "stderr",
     "output_type": "stream",
     "text": [
      "/home/felix/.local/lib/python3.6/site-packages/ipykernel_launcher.py:5: DeprecationWarning: Calling np.sum(generator) is deprecated, and in the future will give a different result. Use np.sum(np.from_iter(generator)) or the python sum builtin instead.\n",
      "  \"\"\"\n"
     ]
    },
    {
     "data": {
      "image/png": "[encoded data removed]",
      "text/plain": [
       "<Figure size 432x288 with 2 Axes>"
      ]
     },
     "metadata": {
      "needs_background": "light"
     },
     "output_type": "display_data"
    }
   ],
   "source": [
    "plot_compare3(ipg, pc, expid, ts)"
   ]
  },
  {
   "cell_type": "code",
   "execution_count": null,
   "metadata": {},
   "outputs": [],
   "source": []
  },
  {
   "cell_type": "code",
   "execution_count": 165,
   "metadata": {},
   "outputs": [
    {
     "name": "stdout",
     "output_type": "stream",
     "text": [
      "espncricinfo 20181211_161158 ipg\n"
     ]
    },
    {
     "data": {
      "text/plain": [
       "array([ 2.80918391,  9.7926087 , 28.2565    ])"
      ]
     },
     "execution_count": 165,
     "metadata": {},
     "output_type": "execute_result"
    }
   ],
   "source": [
    "kipg = skc.KMeans(3)\n",
    "kipg.fit(ipg['Processor Power_0(Watt)'].values.reshape((-1,1)))\n",
    "print(expid, ts, 'ipg')\n",
    "ipg_vals = np.sort(kipg.cluster_centers_[:,0])\n",
    "ipg_vals"
   ]
  },
  {
   "cell_type": "code",
   "execution_count": 166,
   "metadata": {},
   "outputs": [
    {
     "name": "stdout",
     "output_type": "stream",
     "text": [
      "espncricinfo 20181211_161158 pc\n"
     ]
    },
    {
     "name": "stderr",
     "output_type": "stream",
     "text": [
      "/home/felix/.local/lib/python3.6/site-packages/ipykernel_launcher.py:2: DeprecationWarning: Calling np.sum(generator) is deprecated, and in the future will give a different result. Use np.sum(np.from_iter(generator)) or the python sum builtin instead.\n",
      "  \n"
     ]
    },
    {
     "data": {
      "text/plain": [
       "array([   610.23255814,  86906.69230769, 273659.        ])"
      ]
     },
     "execution_count": 166,
     "metadata": {},
     "output_type": "execute_result"
    }
   ],
   "source": [
    "kpc = skc.KMeans(3)\n",
    "kpc.fit(pc.tabs.apply(lambda x: sum(y['duration'] for y in x.values())).diff().apply(\n",
    "        lambda x: x if x >= 0 else np.nan\n",
    "    ).dropna().values.reshape((-1,1)))\n",
    "print(expid, ts, 'pc')\n",
    "pc_vals = np.sort(kpc.cluster_centers_[:,0])\n",
    "pc_vals"
   ]
  },
  {
   "cell_type": "code",
   "execution_count": 167,
   "metadata": {
    "scrolled": true
   },
   "outputs": [
    {
     "data": {
      "text/plain": [
       "2.5575741846529873e-05"
      ]
     },
     "execution_count": 167,
     "metadata": {},
     "output_type": "execute_result"
    }
   ],
   "source": [
    "(ipg_vals[1] - ipg_vals[0]) / (pc_vals[2] - pc_vals[0])"
   ]
  },
  {
   "cell_type": "code",
   "execution_count": 169,
   "metadata": {},
   "outputs": [
    {
     "name": "stdout",
     "output_type": "stream",
     "text": [
      "ling 20181212_142823 ipg\n"
     ]
    },
    {
     "data": {
      "text/plain": [
       "array([ 2.82401786, 25.90877358, 38.22527273])"
      ]
     },
     "execution_count": 169,
     "metadata": {},
     "output_type": "execute_result"
    }
   ],
   "source": [
    "kipg = skc.KMeans(3)\n",
    "kipg.fit(ipg['Processor Power_0(Watt)'].values.reshape((-1,1)))\n",
    "print(expid, ts, 'ipg')\n",
    "ipg_vals = np.sort(kipg.cluster_centers_[:,0])\n",
    "ipg_vals"
   ]
  },
  {
   "cell_type": "code",
   "execution_count": 176,
   "metadata": {},
   "outputs": [
    {
     "name": "stdout",
     "output_type": "stream",
     "text": [
      "ling 20181212_142823 pc\n"
     ]
    },
    {
     "name": "stderr",
     "output_type": "stream",
     "text": [
      "/home/felix/.local/lib/python3.6/site-packages/ipykernel_launcher.py:2: DeprecationWarning: Calling np.sum(generator) is deprecated, and in the future will give a different result. Use np.sum(np.from_iter(generator)) or the python sum builtin instead.\n",
      "  \n"
     ]
    },
    {
     "data": {
      "text/plain": [
       "array([ 10609.24545455,  84916.        , 428243.        ])"
      ]
     },
     "execution_count": 176,
     "metadata": {},
     "output_type": "execute_result"
    }
   ],
   "source": [
    "kpc = skc.KMeans(3)\n",
    "kpc.fit(pc.tabs.apply(lambda x: sum(y['duration'] for y in x.values())).diff().apply(\n",
    "        lambda x: x if x >= 0 else np.nan\n",
    "    ).dropna().values.reshape((-1,1)))\n",
    "print(expid, ts, 'pc')\n",
    "pc_vals = np.sort(kpc.cluster_centers_[:,0])\n",
    "pc_vals"
   ]
  },
  {
   "cell_type": "code",
   "execution_count": 177,
   "metadata": {},
   "outputs": [
    {
     "data": {
      "text/plain": [
       "0.0003106683351866958"
      ]
     },
     "execution_count": 177,
     "metadata": {},
     "output_type": "execute_result"
    }
   ],
   "source": [
    "(ipg_vals[1] - ipg_vals[0]) / (pc_vals[1] - pc_vals[0])"
   ]
  },
  {
   "cell_type": "code",
   "execution_count": null,
   "metadata": {},
   "outputs": [],
   "source": []
  }
 ],
 "metadata": {
  "kernelspec": {
   "display_name": "Python 3",
   "language": "python",
   "name": "python3"
  },
  "language_info": {
   "codemirror_mode": {
    "name": "ipython",
    "version": 3
   },
   "file_extension": ".py",
   "mimetype": "text/x-python",
   "name": "python",
   "nbconvert_exporter": "python",
   "pygments_lexer": "ipython3",
   "version": "3.6.7"
  }
 },
 "nbformat": 4,
 "nbformat_minor": 2
}
